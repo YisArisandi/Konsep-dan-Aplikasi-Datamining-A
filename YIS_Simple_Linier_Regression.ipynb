{
  "nbformat": 4,
  "nbformat_minor": 0,
  "metadata": {
    "colab": {
      "name": "YIS_Simple Linier Regression.ipynb",
      "provenance": [],
      "collapsed_sections": []
    },
    "kernelspec": {
      "name": "python3",
      "display_name": "Python 3"
    },
    "language_info": {
      "name": "python"
    }
  },
  "cells": [
    {
      "cell_type": "markdown",
      "metadata": {
        "id": "efFbJ9Sg6Qs6"
      },
      "source": [
        "#Load library"
      ]
    },
    {
      "cell_type": "code",
      "metadata": {
        "id": "7RgK8xkk6Z4w"
      },
      "source": [
        "import pandas as pd"
      ],
      "execution_count": 6,
      "outputs": []
    },
    {
      "cell_type": "markdown",
      "metadata": {
        "id": "vq4QbBvF6e5I"
      },
      "source": [
        "#Load datasets"
      ]
    },
    {
      "cell_type": "code",
      "metadata": {
        "colab": {
          "base_uri": "https://localhost:8080/",
          "height": 204
        },
        "id": "II1sO5mb6pux",
        "outputId": "454231aa-cf9f-4315-d8a4-cc4125a4bb58"
      },
      "source": [
        "pizza = {'diameter' : [5,10,15,20,25],\n",
        "         'harga' : [20,35,40,50,70]}\n",
        "\n",
        "pizza_df = pd.DataFrame(pizza)\n",
        "pizza_df"
      ],
      "execution_count": 8,
      "outputs": [
        {
          "output_type": "execute_result",
          "data": {
            "text/html": [
              "<div>\n",
              "<style scoped>\n",
              "    .dataframe tbody tr th:only-of-type {\n",
              "        vertical-align: middle;\n",
              "    }\n",
              "\n",
              "    .dataframe tbody tr th {\n",
              "        vertical-align: top;\n",
              "    }\n",
              "\n",
              "    .dataframe thead th {\n",
              "        text-align: right;\n",
              "    }\n",
              "</style>\n",
              "<table border=\"1\" class=\"dataframe\">\n",
              "  <thead>\n",
              "    <tr style=\"text-align: right;\">\n",
              "      <th></th>\n",
              "      <th>diameter</th>\n",
              "      <th>harga</th>\n",
              "    </tr>\n",
              "  </thead>\n",
              "  <tbody>\n",
              "    <tr>\n",
              "      <th>0</th>\n",
              "      <td>5</td>\n",
              "      <td>20</td>\n",
              "    </tr>\n",
              "    <tr>\n",
              "      <th>1</th>\n",
              "      <td>10</td>\n",
              "      <td>35</td>\n",
              "    </tr>\n",
              "    <tr>\n",
              "      <th>2</th>\n",
              "      <td>15</td>\n",
              "      <td>40</td>\n",
              "    </tr>\n",
              "    <tr>\n",
              "      <th>3</th>\n",
              "      <td>20</td>\n",
              "      <td>50</td>\n",
              "    </tr>\n",
              "    <tr>\n",
              "      <th>4</th>\n",
              "      <td>25</td>\n",
              "      <td>70</td>\n",
              "    </tr>\n",
              "  </tbody>\n",
              "</table>\n",
              "</div>"
            ],
            "text/plain": [
              "   diameter  harga\n",
              "0         5     20\n",
              "1        10     35\n",
              "2        15     40\n",
              "3        20     50\n",
              "4        25     70"
            ]
          },
          "metadata": {
            "tags": []
          },
          "execution_count": 8
        }
      ]
    },
    {
      "cell_type": "markdown",
      "metadata": {
        "id": "8YhrtXDwBBO_"
      },
      "source": [
        "#memvisualisasikan data"
      ]
    },
    {
      "cell_type": "code",
      "metadata": {
        "colab": {
          "base_uri": "https://localhost:8080/",
          "height": 295
        },
        "id": "ZF5etQRdANwF",
        "outputId": "ab1bc71b-30ca-4876-cb81-c71b4fafb8ed"
      },
      "source": [
        "import matplotlib.pyplot as plt\n",
        "\n",
        "pizza_df.plot(kind='scatter', x='diameter', y='harga')\n",
        "\n",
        "plt.title('perbandinga diameter dan harga pizza')\n",
        "plt.xlabel('Diameter in inches')\n",
        "plt.ylabel('Price in dollars')\n",
        "plt.xlim(0,80)\n",
        "plt.ylim(0,80)\n",
        "plt.grid(True)\n",
        "plt.show()"
      ],
      "execution_count": 16,
      "outputs": [
        {
          "output_type": "display_data",
          "data": {
            "image/png": "[encoded data removed]",
            "text/plain": [
              "<Figure size 432x288 with 1 Axes>"
            ]
          },
          "metadata": {
            "tags": [],
            "needs_background": "light"
          }
        }
      ]
    },
    {
      "cell_type": "markdown",
      "metadata": {
        "id": "cNEclaugDkvE"
      },
      "source": [
        "**Model Simple Linier Regressio**"
      ]
    },
    {
      "cell_type": "markdown",
      "metadata": {
        "id": "G155h-2oD8_J"
      },
      "source": [
        "#merubah dataset ke ray satu dimensi"
      ]
    },
    {
      "cell_type": "code",
      "metadata": {
        "colab": {
          "base_uri": "https://localhost:8080/"
        },
        "id": "ttZQEXHzD5Mo",
        "outputId": "c35c1239-2d4b-4e08-d6f5-794ba599f98b"
      },
      "source": [
        "import numpy as np\n",
        "\n",
        "x = np.array(pizza_df['diameter'])\n",
        "y = np.array(pizza_df['harga'])\n",
        "\n",
        "print(f'x : {x}')\n",
        "print(f'y : {y}')"
      ],
      "execution_count": 17,
      "outputs": [
        {
          "output_type": "stream",
          "text": [
            "x : [ 5 10 15 20 25]\n",
            "y : [20 35 40 50 70]\n"
          ],
          "name": "stdout"
        }
      ]
    },
    {
      "cell_type": "code",
      "metadata": {
        "colab": {
          "base_uri": "https://localhost:8080/"
        },
        "id": "8yjw0ri9Fd4f",
        "outputId": "de772cd8-f98d-44a1-bd76-dd55f0cfeb03"
      },
      "source": [
        "x = x.reshape(-1,1)\n",
        "x.shape"
      ],
      "execution_count": 18,
      "outputs": [
        {
          "output_type": "execute_result",
          "data": {
            "text/plain": [
              "(5, 1)"
            ]
          },
          "metadata": {
            "tags": []
          },
          "execution_count": 18
        }
      ]
    },
    {
      "cell_type": "code",
      "metadata": {
        "colab": {
          "base_uri": "https://localhost:8080/"
        },
        "id": "fl630m-6F494",
        "outputId": "63ed5adf-2920-4f9d-f757-e2feac370512"
      },
      "source": [
        "x"
      ],
      "execution_count": 19,
      "outputs": [
        {
          "output_type": "execute_result",
          "data": {
            "text/plain": [
              "array([[ 5],\n",
              "       [10],\n",
              "       [15],\n",
              "       [20],\n",
              "       [25]])"
            ]
          },
          "metadata": {
            "tags": []
          },
          "execution_count": 19
        }
      ]
    },
    {
      "cell_type": "markdown",
      "metadata": {
        "id": "LGouXJ7dGJT8"
      },
      "source": [
        "**Training Simple Linier Regression Model**"
      ]
    },
    {
      "cell_type": "code",
      "metadata": {
        "colab": {
          "base_uri": "https://localhost:8080/"
        },
        "id": "dvo8vSlNGRts",
        "outputId": "29ec8bc4-6479-412d-cc96-ba9ac2df1e72"
      },
      "source": [
        "from sklearn.linear_model import LinearRegression\n",
        "\n",
        "model = LinearRegression()\n",
        "model.fit(x, y)"
      ],
      "execution_count": 20,
      "outputs": [
        {
          "output_type": "execute_result",
          "data": {
            "text/plain": [
              "LinearRegression(copy_X=True, fit_intercept=True, n_jobs=None, normalize=False)"
            ]
          },
          "metadata": {
            "tags": []
          },
          "execution_count": 20
        }
      ]
    },
    {
      "cell_type": "markdown",
      "metadata": {
        "id": "VAGJZP8JGy7V"
      },
      "source": [
        "#visualisasi simple linear regression model"
      ]
    },
    {
      "cell_type": "code",
      "metadata": {
        "id": "epYynjShG6Uz"
      },
      "source": [
        "x_vis = np.array([0, 80]).reshape(-1,1)\n",
        "y_vis = model.predict(x_vis)"
      ],
      "execution_count": 21,
      "outputs": []
    },
    {
      "cell_type": "code",
      "metadata": {
        "colab": {
          "base_uri": "https://localhost:8080/",
          "height": 295
        },
        "id": "q_4Abe9IHMFA",
        "outputId": "e2e160aa-fb8a-46dc-8ba3-c9a9e72f0c7d"
      },
      "source": [
        "plt.scatter(x, y)\n",
        "plt.plot(x_vis, y_vis, '-r')\n",
        "\n",
        "plt.title('perbandinga diameter dan harga pizza')\n",
        "plt.xlabel('Diameter in inches')\n",
        "plt.ylabel('Price in dollars')\n",
        "plt.xlim(0,80)\n",
        "plt.ylim(0,80)\n",
        "plt.grid()\n",
        "plt.show()"
      ],
      "execution_count": 22,
      "outputs": [
        {
          "output_type": "display_data",
          "data": {
            "image/png": "[encoded data removed]",
            "text/plain": [
              "<Figure size 432x288 with 1 Axes>"
            ]
          },
          "metadata": {
            "tags": [],
            "needs_background": "light"
          }
        }
      ]
    },
    {
      "cell_type": "code",
      "metadata": {
        "colab": {
          "base_uri": "https://localhost:8080/"
        },
        "id": "1hwDJcTqHvZk",
        "outputId": "59aad02f-bb59-4a58-f525-ef3488b04ef7"
      },
      "source": [
        "print(f'intercept: {model.intercept_}')\n",
        "print(f'slope: {model.coef_}')"
      ],
      "execution_count": 23,
      "outputs": [
        {
          "output_type": "stream",
          "text": [
            "intercept: 8.499999999999986\n",
            "slope: [2.3]\n"
          ],
          "name": "stdout"
        }
      ]
    },
    {
      "cell_type": "markdown",
      "metadata": {
        "id": "A_6u7OH9Ip4X"
      },
      "source": [
        "#**mencari nilai slope**"
      ]
    },
    {
      "cell_type": "code",
      "metadata": {
        "colab": {
          "base_uri": "https://localhost:8080/"
        },
        "id": "lBhRPZuhIln0",
        "outputId": "70756bb1-bb0a-4722-ec05-467de66a5cbe"
      },
      "source": [
        "print(f'x:\\n{x}\\n')\n",
        "print(f'x flatten: {x.flatten()}\\n')\n",
        "print(f'y: {y}')"
      ],
      "execution_count": 25,
      "outputs": [
        {
          "output_type": "stream",
          "text": [
            "x:\n",
            "[[ 5]\n",
            " [10]\n",
            " [15]\n",
            " [20]\n",
            " [25]]\n",
            "\n",
            "x flatten: [ 5 10 15 20 25]\n",
            "\n",
            "y: [20 35 40 50 70]\n"
          ],
          "name": "stdout"
        }
      ]
    },
    {
      "cell_type": "markdown",
      "metadata": {
        "id": "8aM0ZK9IJMs4"
      },
      "source": [
        "variance"
      ]
    },
    {
      "cell_type": "code",
      "metadata": {
        "colab": {
          "base_uri": "https://localhost:8080/"
        },
        "id": "sTGcRZz1I5Lj",
        "outputId": "bb9fe22f-078d-434e-872b-b1e7d47ee6c7"
      },
      "source": [
        "variance_x = np.var(x.flatten(), ddof=1)\n",
        "print(f'variance: {variance_x}')"
      ],
      "execution_count": 26,
      "outputs": [
        {
          "output_type": "stream",
          "text": [
            "variance: 62.5\n"
          ],
          "name": "stdout"
        }
      ]
    },
    {
      "cell_type": "markdown",
      "metadata": {
        "id": "syHY2hVPJzZA"
      },
      "source": [
        "covariance"
      ]
    },
    {
      "cell_type": "code",
      "metadata": {
        "colab": {
          "base_uri": "https://localhost:8080/"
        },
        "id": "eiVogD1CJuBc",
        "outputId": "9ba6116b-0d65-4bad-9f9d-3513a12d0cc8"
      },
      "source": [
        "np.cov(x.flatten(), y)"
      ],
      "execution_count": 28,
      "outputs": [
        {
          "output_type": "execute_result",
          "data": {
            "text/plain": [
              "array([[ 62.5 , 143.75],\n",
              "       [143.75, 345.  ]])"
            ]
          },
          "metadata": {
            "tags": []
          },
          "execution_count": 28
        }
      ]
    },
    {
      "cell_type": "code",
      "metadata": {
        "colab": {
          "base_uri": "https://localhost:8080/"
        },
        "id": "j9JebshaJ7aE",
        "outputId": "952e9599-69d9-4476-8bcb-7a2928c9a78f"
      },
      "source": [
        "covariance_xy = np.cov(x.flatten(), y)[0][1]\n",
        "print(f'covariance: {covariance_xy}')"
      ],
      "execution_count": 29,
      "outputs": [
        {
          "output_type": "stream",
          "text": [
            "covariance: 143.75\n"
          ],
          "name": "stdout"
        }
      ]
    },
    {
      "cell_type": "markdown",
      "metadata": {
        "id": "W33xKi5KKjHb"
      },
      "source": [
        "nilai slope"
      ]
    },
    {
      "cell_type": "code",
      "metadata": {
        "colab": {
          "base_uri": "https://localhost:8080/"
        },
        "id": "k4swB0OzKcNt",
        "outputId": "32697185-19f9-4261-af6b-59163efac989"
      },
      "source": [
        "slope = covariance_xy / variance_x\n",
        "print(f'slope: {slope}')"
      ],
      "execution_count": 30,
      "outputs": [
        {
          "output_type": "stream",
          "text": [
            "slope: 2.3\n"
          ],
          "name": "stdout"
        }
      ]
    },
    {
      "cell_type": "markdown",
      "metadata": {
        "id": "HMM7wfcnLtc_"
      },
      "source": [
        "#**mencari nilai intercept**"
      ]
    },
    {
      "cell_type": "code",
      "metadata": {
        "colab": {
          "base_uri": "https://localhost:8080/"
        },
        "id": "ni0unIkWK7Mo",
        "outputId": "6ea27bee-4109-4dc2-8fc8-6cd70f308eb0"
      },
      "source": [
        "intercept = np.mean(y) - slope * np.mean(x)\n",
        "print(f'intercept: {intercept}')"
      ],
      "execution_count": 32,
      "outputs": [
        {
          "output_type": "stream",
          "text": [
            "intercept: 8.5\n"
          ],
          "name": "stdout"
        }
      ]
    },
    {
      "cell_type": "markdown",
      "metadata": {
        "id": "RC00qVgRMvNZ"
      },
      "source": [
        "#**prediksi harga pizza berdasarkan ukuran diameter**"
      ]
    },
    {
      "cell_type": "code",
      "metadata": {
        "colab": {
          "base_uri": "https://localhost:8080/"
        },
        "id": "QgUmv3c6MLNC",
        "outputId": "5862063e-9dad-4a75-eb11-7ca6b8162312"
      },
      "source": [
        "diameter_pizza = np.array([15, 20, 25]).reshape(-1, 1)\n",
        "diameter_pizza"
      ],
      "execution_count": 34,
      "outputs": [
        {
          "output_type": "execute_result",
          "data": {
            "text/plain": [
              "array([[15],\n",
              "       [20],\n",
              "       [25]])"
            ]
          },
          "metadata": {
            "tags": []
          },
          "execution_count": 34
        }
      ]
    },
    {
      "cell_type": "code",
      "metadata": {
        "colab": {
          "base_uri": "https://localhost:8080/"
        },
        "id": "riAO69w-NR2f",
        "outputId": "7809ecf2-5e7e-4b93-e360-49227e96543d"
      },
      "source": [
        "prediksi_harga = model.predict(diameter_pizza)\n",
        "prediksi_harga"
      ],
      "execution_count": 36,
      "outputs": [
        {
          "output_type": "execute_result",
          "data": {
            "text/plain": [
              "array([43. , 54.5, 66. ])"
            ]
          },
          "metadata": {
            "tags": []
          },
          "execution_count": 36
        }
      ]
    },
    {
      "cell_type": "code",
      "metadata": {
        "colab": {
          "base_uri": "https://localhost:8080/"
        },
        "id": "XdVJbUpvNkBf",
        "outputId": "20c5a0bf-3539-463a-de00-280503101ddf"
      },
      "source": [
        "for dmtr, hrg in zip(diameter_pizza, prediksi_harga):\n",
        "  print(f'diameter : {dmtr} prediksi harga: {hrg}')"
      ],
      "execution_count": 37,
      "outputs": [
        {
          "output_type": "stream",
          "text": [
            "diameter : [15] prediksi harga: 43.0\n",
            "diameter : [20] prediksi harga: 54.5\n",
            "diameter : [25] prediksi harga: 66.0\n"
          ],
          "name": "stdout"
        }
      ]
    },
    {
      "cell_type": "markdown",
      "metadata": {
        "id": "ml3-3UNGO-E1"
      },
      "source": [
        "#**evaluasi simple linier regression model training & testing dataset**"
      ]
    },
    {
      "cell_type": "code",
      "metadata": {
        "id": "lM2xhC9AOFnb"
      },
      "source": [
        "x_train = np.array([5, 10, 15, 20, 25]).reshape(-1, 1)\n",
        "y_train = np.array([3, 6, 9, 12, 15])\n",
        "\n",
        "x_test = np.array([2, 4, 6, 8, 10]).reshape(-1,1)\n",
        "y_test = np.array([10, 20, 30, 40, 50])"
      ],
      "execution_count": 38,
      "outputs": []
    },
    {
      "cell_type": "markdown",
      "metadata": {
        "id": "I8D0VVy6Pv3m"
      },
      "source": [
        "training simple linear regression model"
      ]
    },
    {
      "cell_type": "code",
      "metadata": {
        "colab": {
          "base_uri": "https://localhost:8080/"
        },
        "id": "TlVJbN4OPtzI",
        "outputId": "512435a2-1733-4740-f5c9-6ac2c951519c"
      },
      "source": [
        "model = LinearRegression()\n",
        "model.fit(x_train, y_train)"
      ],
      "execution_count": 39,
      "outputs": [
        {
          "output_type": "execute_result",
          "data": {
            "text/plain": [
              "LinearRegression(copy_X=True, fit_intercept=True, n_jobs=None, normalize=False)"
            ]
          },
          "metadata": {
            "tags": []
          },
          "execution_count": 39
        }
      ]
    },
    {
      "cell_type": "markdown",
      "metadata": {
        "id": "-7urKTKOQCZ3"
      },
      "source": [
        "evaluasi linear regression model dengan coefficient of determination atau r-squared"
      ]
    },
    {
      "cell_type": "code",
      "metadata": {
        "colab": {
          "base_uri": "https://localhost:8080/"
        },
        "id": "FQdx0aeOQAWt",
        "outputId": "ff5a1412-5ba0-4e14-af52-667ee637fbc8"
      },
      "source": [
        "from sklearn.metrics import r2_score\n",
        "y_pred = model.predict(x_test)\n",
        "\n",
        "r_squared = r2_score(y_test, y_pred)\n",
        "print(f'R-squared: {r_squared}')"
      ],
      "execution_count": 40,
      "outputs": [
        {
          "output_type": "stream",
          "text": [
            "R-squared: -3.2592000000000008\n"
          ],
          "name": "stdout"
        }
      ]
    },
    {
      "cell_type": "code",
      "metadata": {
        "id": "PvVbEw9XQowL"
      },
      "source": [
        ""
      ],
      "execution_count": null,
      "outputs": []
    }
  ]
}